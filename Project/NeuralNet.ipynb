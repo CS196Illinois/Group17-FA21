{
 "cells": [
  {
   "cell_type": "code",
   "execution_count": 8,
   "metadata": {},
   "outputs": [],
   "source": [
    "import numpy as np\n",
    "import matplotlib.pyplot as plt\n",
    "import pandas as pd\n",
    "import sklearn\n"
   ]
  },
  {
   "cell_type": "code",
   "execution_count": 9,
   "metadata": {},
   "outputs": [],
   "source": [
    "def sigmoid(a):\n",
    "    return(1/(1+np.exp(-a)))\n",
    "\n",
    "def layerresult(x, w1, w2):\n",
    "    num1=x.dot(w1)\n",
    "    res1=sigmoid(num1)\n",
    "    \n",
    "    num2=res1.dot(w2)\n",
    "    res2=sigmoid(num2)\n",
    "    return(res2)\n",
    "\n",
    "def weight(x,y):\n",
    "    arrs=[]\n",
    "    for i in range(x*y):\n",
    "        l.append(np.random.random())\n",
    "    return (np.array(arrs).reshape(x,y))\n",
    "\n",
    "def loss(output, y):\n",
    "    mse=np.square(output-y)\n",
    "    mse=np.sum(mse)/len(y)\n",
    "    return(mse)\n",
    "\n",
    "def backcheck(x, y, w1, w2, a):\n",
    "    num1=x.dot(w1)\n",
    "    res1=sigmoid(num1)\n",
    "    \n",
    "    num2=res1.dor(w2)\n",
    "    res2=sigmoid(num2)\n",
    "    \n",
    "    err2=res2-y\n",
    "    err1=np.multily((w2.dot((d2.transposre()))).transpose(), (np.multiply(res1, 1-res1)))\n",
    "    \n",
    "    w1dif = x.transpose().dot(err1)\n",
    "    w2dif=res1.transpose().dot(err2)\n",
    "    \n",
    "    w1=w1-alpha*w1dif\n",
    "    w2=w2-alpha*w2dif\n",
    "    \n",
    "    return (w1, w2)\n",
    "def train(x, y, w1, w2, alpha, rounds):\n",
    "    acc=[]\n",
    "    losss=[]\n",
    "    for j in range(rounds):\n",
    "        arrs=[]\n",
    "        for i in range(len(x)):\n",
    "            output=layerresult(x[i], w1, w2)\n",
    "            arrs.append((loss(output, y[i])))\n",
    "            w1, w2=backcheck(x[i],y[i], w1, w2, alpha)\n",
    "        print(\"epochs:\", j+1, \"======== acc:\", 1-sum(arrs)/len(x)*100)\n",
    "        acc.append(1-sum(arrs)/len(x)*100)\n",
    "        losss.append(1-sum(arrs)/len(x))\n",
    "    return(acc,losss, w1, w2)\n",
    "\n",
    "def predict(x, w1, w2):\n",
    "    Out=layerresult(x, w1, w2)\n",
    "    maxm=0\n",
    "    k=9\n",
    "    for i in range(len(Out[0])):\n",
    "        if(maxm>Out[0][i]):\n",
    "            maxm=Out[0][i]\n",
    "            k=i"
   ]
  },
  {
   "cell_type": "code",
   "execution_count": null,
   "metadata": {},
   "outputs": [],
   "source": []
  }
 ],
 "metadata": {
  "kernelspec": {
   "display_name": "Python 3",
   "language": "python",
   "name": "python3"
  },
  "language_info": {
   "codemirror_mode": {
    "name": "ipython",
    "version": 3
   },
   "file_extension": ".py",
   "mimetype": "text/x-python",
   "name": "python",
   "nbconvert_exporter": "python",
   "pygments_lexer": "ipython3",
   "version": "3.7.6"
  }
 },
 "nbformat": 4,
 "nbformat_minor": 4
}
